{
  "nbformat": 4,
  "nbformat_minor": 0,
  "metadata": {
    "colab": {
      "provenance": [],
      "toc_visible": true,
      "include_colab_link": true
    },
    "kernelspec": {
      "name": "python3",
      "display_name": "Python 3"
    },
    "language_info": {
      "name": "python"
    }
  },
  "cells": [
    {
      "cell_type": "markdown",
      "metadata": {
        "id": "view-in-github",
        "colab_type": "text"
      },
      "source": [
        "<a href=\"https://colab.research.google.com/github/kjh8331267/AI_policy_analysis/blob/main/1_Setting_target_documents.ipynb\" target=\"_parent\"><img src=\"https://colab.research.google.com/assets/colab-badge.svg\" alt=\"Open In Colab\"/></a>"
      ]
    },
    {
      "cell_type": "markdown",
      "source": [
        "# Setting target documents\n",
        "- Filtering Overton data with titles"
      ],
      "metadata": {
        "id": "5ZxrXtTgf3tJ"
      }
    },
    {
      "cell_type": "code",
      "execution_count": null,
      "metadata": {
        "colab": {
          "base_uri": "https://localhost:8080/"
        },
        "id": "UqsnpNMI7I2t",
        "outputId": "272f1514-ea82-4dd5-b340-52ee9f701a42"
      },
      "outputs": [
        {
          "output_type": "stream",
          "name": "stdout",
          "text": [
            "Mounted at /content/drive\n"
          ]
        }
      ],
      "source": [
        "from google.colab import drive\n",
        "drive.mount('/content/drive')"
      ]
    },
    {
      "cell_type": "code",
      "source": [
        "import pandas as pd"
      ],
      "metadata": {
        "id": "P6C7x7HQ7Qtf"
      },
      "execution_count": null,
      "outputs": []
    },
    {
      "cell_type": "code",
      "source": [
        "# Read data\n",
        "file_path = \"/content/drive/MyDrive/Project_pythonclass/Overton_data.xlsx\"\n",
        "\n",
        "# Reading CSV file into pandas dataframe\n",
        "data = pd.read_excel(file_path)\n",
        "\n",
        "# Data Verification\n",
        "print(data.head())"
      ],
      "metadata": {
        "colab": {
          "base_uri": "https://localhost:8080/"
        },
        "id": "WTZZFR7i7dAR",
        "outputId": "40adedd7-8075-4d55-c7e3-abb98f3ab7f9"
      },
      "execution_count": null,
      "outputs": [
        {
          "output_type": "stream",
          "name": "stdout",
          "text": [
            "                                         Title  \\\n",
            "0     Relación Definitiva De Ayudas Concedidas   \n",
            "1     Relación Definitiva De Ayudas Concedidas   \n",
            "2                当翻訳は仮訳であり 、 正確には原文を参照してください 。   \n",
            "3                当翻訳は仮訳であり 、 正確には原文を参照してください 。   \n",
            "4  Ukatu Diren Laguntzen Behin Betiko Zerrenda   \n",
            "\n",
            "                   Translated title   Published  \\\n",
            "0                               NaN  2020-10-07   \n",
            "1                               NaN  2022-03-07   \n",
            "2                               NaN  2024-04-16   \n",
            "3                               NaN  2024-01-18   \n",
            "4  Definitive List of Grants Denied  2020-10-07   \n",
            "\n",
            "                                                 URL  \\\n",
            "0  https://www.euskadi.eus/contenidos/resolucion_...   \n",
            "1  https://www.euskadi.eus/contenidos/resolucion_...   \n",
            "2  https://www.soumu.go.jp/main_content/000943087...   \n",
            "3  https://www.soumu.go.jp/main_content/000923720...   \n",
            "4  https://www.euskadi.eus/contenidos/resolucion_...   \n",
            "\n",
            "                                             PDF URL       Source ID  \\\n",
            "0  https://www.euskadi.eus/contenidos/resolucion_...  stateofeuskadi   \n",
            "1  https://www.euskadi.eus/contenidos/resolucion_...  stateofeuskadi   \n",
            "2  https://www.soumu.go.jp/main_content/000943087...   govdeptsjapan   \n",
            "3  https://www.soumu.go.jp/main_content/000923720...   govdeptsjapan   \n",
            "4  https://www.euskadi.eus/contenidos/resolucion_...  stateofeuskadi   \n",
            "\n",
            "                  Source Name Source Country Source Type  \\\n",
            "0  Euskal Autonomia Erkidegoa          Spain  government   \n",
            "1  Euskal Autonomia Erkidegoa          Spain  government   \n",
            "2         Government of Japan          Japan  government   \n",
            "3         Government of Japan          Japan  government   \n",
            "4  Euskal Autonomia Erkidegoa          Spain  government   \n",
            "\n",
            "                                Policy Document ID Policy Document Type  \\\n",
            "0  stateofeuskadi-408d144b244a1988191201d5926b2f38          Publication   \n",
            "1  stateofeuskadi-d00c4336e7ea4e67495406dc4544f5e9          Publication   \n",
            "2   govdeptsjapan-4b277481dcaa0d04f59b90e1962cc31d          Publication   \n",
            "3   govdeptsjapan-78510a3768a39f8eba0a6a7559297cdf          Publication   \n",
            "4  stateofeuskadi-796142edf85d79b77b163a05f7c4fa63          Publication   \n",
            "\n",
            "                          Policy Document Authors Policy Document DOIs  \\\n",
            "0                      Euskal Autonomia Erkidegoa                  NaN   \n",
            "1                      Euskal Autonomia Erkidegoa                  NaN   \n",
            "2  Ministry of Internal Affairs and Communication                  NaN   \n",
            "3  Ministry of Internal Affairs and Communication                  NaN   \n",
            "4                      Euskal Autonomia Erkidegoa                  NaN   \n",
            "\n",
            "                                          Top Topics  Citations  \\\n",
            "0                                                NaN          0   \n",
            "1             Education in Spain ; Education ; Spain          0   \n",
            "2  Artificial intelligence ; Governance ; Machine...          0   \n",
            "3        Artificial intelligence ; Governance ; Risk          0   \n",
            "4                                                NaN          0   \n",
            "\n",
            "   Citations (Including Same Source) Languages  \n",
            "0                                  0       eng  \n",
            "1                                  0       eng  \n",
            "2                                  0       eng  \n",
            "3                                  0       eng  \n",
            "4                                  0       baq  \n"
          ]
        }
      ]
    },
    {
      "cell_type": "code",
      "source": [
        "df = pd.read_excel(file_path)\n",
        "\n",
        "# In the 'Policy Document Type' column, leave only 'publication' and 'White paper'\n",
        "filtered_df = df[df['Policy Document Type'].isin(['Publication', 'White paper'])]\n",
        "\n",
        "# Check the number of rows filtered by publication and white paper\n",
        "non_dcoument_type = len(filtered_df)\n",
        "\n",
        "# Output the number\n",
        "print(f\"Number of Document Type: {non_dcoument_type}\")"
      ],
      "metadata": {
        "colab": {
          "base_uri": "https://localhost:8080/"
        },
        "id": "m7l9ptcr9IAy",
        "outputId": "e85b0b64-c98d-468d-a49e-d565d66dc149"
      },
      "execution_count": null,
      "outputs": [
        {
          "output_type": "stream",
          "name": "stdout",
          "text": [
            "Number of Document Type: 1127\n"
          ]
        }
      ]
    },
    {
      "cell_type": "code",
      "source": [
        "# Replace 'Title' value with 'Translated title' value only when 'Translated title' value exists\n",
        "filtered_df['Title'] = filtered_df['Translated title'].combine_first(filtered_df['Title'])\n",
        "\n",
        "# Delete the 'Translated title' column\n",
        "filtered_df = filtered_df.drop(columns=['Translated title'])"
      ],
      "metadata": {
        "colab": {
          "base_uri": "https://localhost:8080/"
        },
        "id": "lDR-jkle793R",
        "outputId": "0c85df9f-c34f-47d8-8b7e-f0e292969de5"
      },
      "execution_count": null,
      "outputs": [
        {
          "output_type": "stream",
          "name": "stderr",
          "text": [
            "<ipython-input-5-1c1765e7ff68>:2: SettingWithCopyWarning: \n",
            "A value is trying to be set on a copy of a slice from a DataFrame.\n",
            "Try using .loc[row_indexer,col_indexer] = value instead\n",
            "\n",
            "See the caveats in the documentation: https://pandas.pydata.org/pandas-docs/stable/user_guide/indexing.html#returning-a-view-versus-a-copy\n",
            "  filtered_df['Title'] = filtered_df['Translated title'].combine_first(filtered_df['Title'])\n"
          ]
        }
      ]
    },
    {
      "cell_type": "code",
      "source": [
        "# Extract a list of unique country names from filtered data\n",
        "filtered_unique_countries = filtered_df['Source Country'].unique()\n",
        "\n",
        "# Output a list of filtered unique country names\n",
        "filtered_unique_countries.tolist()"
      ],
      "metadata": {
        "colab": {
          "base_uri": "https://localhost:8080/"
        },
        "id": "UviyV1yh-66w",
        "outputId": "2c933e6e-b485-446b-db8a-8f6334693bf4"
      },
      "execution_count": null,
      "outputs": [
        {
          "output_type": "execute_result",
          "data": {
            "text/plain": [
              "['Spain',\n",
              " 'Japan',\n",
              " 'USA',\n",
              " 'Brazil',\n",
              " 'UK',\n",
              " 'IGO',\n",
              " 'Canada',\n",
              " 'France',\n",
              " 'Netherlands',\n",
              " 'Australia',\n",
              " 'EU',\n",
              " 'Poland',\n",
              " 'Samoa',\n",
              " 'Sweden',\n",
              " 'Nigeria',\n",
              " 'Taiwan',\n",
              " 'United Arab Emirates',\n",
              " 'Germany',\n",
              " 'Singapore',\n",
              " 'Austria',\n",
              " 'Belgium',\n",
              " 'Switzerland',\n",
              " 'Tonga',\n",
              " 'Ecuador',\n",
              " 'New Zealand',\n",
              " 'Ireland',\n",
              " 'South Africa',\n",
              " 'Thailand',\n",
              " 'Luxembourg',\n",
              " 'Latvia',\n",
              " 'India',\n",
              " 'Egypt',\n",
              " 'Denmark',\n",
              " 'Uruguay',\n",
              " 'China',\n",
              " 'Italy',\n",
              " 'Slovenia',\n",
              " 'Honduras',\n",
              " 'Finland',\n",
              " 'Czech Republic',\n",
              " 'Peru',\n",
              " 'Trinidad and Tobago',\n",
              " 'Kenya',\n",
              " 'Guatemala',\n",
              " 'Philippines',\n",
              " 'Turkey',\n",
              " 'Colombia',\n",
              " 'Norway']"
            ]
          },
          "metadata": {},
          "execution_count": 6
        }
      ]
    },
    {
      "cell_type": "code",
      "source": [
        "# List of countries to delete\n",
        "target_countries = ['EU', 'UK', 'Spain', 'France', 'Germany', 'Netherlands', 'Sweden',\n",
        "                    'Austria', 'Belgium', 'Switzerland', 'Poland', 'Italy', 'USA', 'IGO']\n",
        "\n",
        "# Delete a country not included in the list\n",
        "for index, row in df.iterrows():\n",
        "    if row['Source Country'] not in target_countries:\n",
        "        df.drop(index, inplace=True)\n",
        "\n",
        "# Check filtered data\n",
        "print(df['Source Country'].unique())\n",
        "\n",
        "# Check the number\n",
        "filtered_count = len(df)\n",
        "\n",
        "# Output the number\n",
        "print(f\"Number of Countries: {filtered_count}\")"
      ],
      "metadata": {
        "colab": {
          "base_uri": "https://localhost:8080/"
        },
        "id": "boU_pGl0_v3f",
        "outputId": "652c0d65-e204-405b-bd36-0d0ff44bd689"
      },
      "execution_count": null,
      "outputs": [
        {
          "output_type": "stream",
          "name": "stdout",
          "text": [
            "['Spain' 'USA' 'UK' 'IGO' 'France' 'Netherlands' 'EU' 'Poland' 'Sweden'\n",
            " 'Germany' 'Austria' 'Belgium' 'Switzerland' 'Italy']\n",
            "Number of Countries: 907\n"
          ]
        }
      ]
    },
    {
      "cell_type": "code",
      "source": [
        "# Convert the 'Published' column to datetime format\n",
        "df['Published'] = pd.to_datetime(df['Published'], errors='coerce')\n",
        "\n",
        "# Leave only data published after January 1, 2023\n",
        "df = df[df['Published'] >= '2023-01-01']\n",
        "\n",
        "# Leave only the rows containing 'Artificial intelligence' in the 'Top Topics' column.\n",
        "df = df[df['Top Topics'].str.contains('Artificial intelligence', na=False, case=False)]\n",
        "\n",
        "# Check the number\n",
        "filtered_count = len(df)\n",
        "\n",
        "# Output the number\n",
        "print(f\"Number of Document published after 2023: {filtered_count}\")"
      ],
      "metadata": {
        "colab": {
          "base_uri": "https://localhost:8080/"
        },
        "id": "dpP8pGHFGE6l",
        "outputId": "d0b92ccd-1723-41ad-ac03-37f36fb2e20f"
      },
      "execution_count": null,
      "outputs": [
        {
          "output_type": "stream",
          "name": "stdout",
          "text": [
            "Number of Document published after 2023: 267\n"
          ]
        }
      ]
    },
    {
      "cell_type": "code",
      "source": [
        "# Filter rows that do not contain 'Artificial intelligence' in the 'Top Topics' column\n",
        "filtered_ai_df = df[df['Top Topics'].str.contains('Artificial intelligence', na=False, case=False)]\n",
        "\n",
        "# Check the number of rows in the 'Top Topics' column that do not contain 'Artificial intelligence'\n",
        "filtered_ai_df_len = len(filtered_ai_df)\n",
        "\n",
        "# Output rows that do not contain 'Artificial intelligence'\n",
        "print(f\"Rows without 'Artificial intelligence' in 'Top Topics':{filtered_ai_df}\")\n",
        "\n",
        "# Output the number\n",
        "print(f\"Number of rows without 'Artificial intelligence' in 'Top Topics': {filtered_ai_df_len}\")\n",
        "\n",
        "# Delete rows that do not contain 'Artificial intelligence'\n",
        "df = df[df['Top Topics'].str.contains('Artificial intelligence', na=False, case=False)]"
      ],
      "metadata": {
        "colab": {
          "base_uri": "https://localhost:8080/"
        },
        "id": "ox4ey4CQWhNQ",
        "outputId": "40496394-af51-4d23-8ede-14af9042d974"
      },
      "execution_count": null,
      "outputs": [
        {
          "output_type": "stream",
          "name": "stdout",
          "text": [
            "Rows without 'Artificial intelligence' in 'Top Topics':                                                  Title  \\\n",
            "9                            Sellafield Ltd AI Strategy   \n",
            "10        AI Governance Alliance: Briefing Paper Series   \n",
            "18          Using AI in Industrial Operations Guidebook   \n",
            "20    COMMUNICATION FROM THE COMMISSION TO THE EUROP...   \n",
            "21    Szkolenia z zakresu AI dla nauczycieli szkół p...   \n",
            "...                                                 ...   \n",
            "1176           CDEI publishes research on AI governance   \n",
            "1178  A Competitive Intelligence Cloud/HPC Platform ...   \n",
            "1181  Patient-First Health with Generative AI: Resha...   \n",
            "1182  Synthetic Politics: Preparing democracy for Ge...   \n",
            "1197  OSTP RFI on National Priorities for Artificial...   \n",
            "\n",
            "                             Translated title  Published  \\\n",
            "9                                         NaN 2023-03-23   \n",
            "10                                        NaN 2024-01-18   \n",
            "18                                        NaN 2023-10-09   \n",
            "20                                        NaN 2024-01-25   \n",
            "21    AI training for primary school teachers 2024-01-27   \n",
            "...                                       ...        ...   \n",
            "1176                                      NaN 2023-03-29   \n",
            "1178                                      NaN 2024-05-10   \n",
            "1181                                      NaN 2024-01-12   \n",
            "1182                                      NaN 2024-03-26   \n",
            "1197                                      NaN 2023-07-06   \n",
            "\n",
            "                                                    URL  \\\n",
            "9     https://www.gov.uk/government/publications/sel...   \n",
            "10    https://www.weforum.org/publications/ai-govern...   \n",
            "18    https://www.weforum.org/whitepapers/harnessing...   \n",
            "20    https://webapi2016.eesc.europa.eu/v1/documents...   \n",
            "21    https://efs-archiwum.men.gov.pl/wp-content/upl...   \n",
            "...                                                 ...   \n",
            "1176  https://www.gov.uk/government/publications/cde...   \n",
            "1178  https://ec.europa.eu/research/participants/doc...   \n",
            "1181  https://www.weforum.org/publications/patient-f...   \n",
            "1182  https://demos.co.uk/research/synthetic-politic...   \n",
            "1197  https://bipartisanpolicy.org/letter/ostp-rfi-o...   \n",
            "\n",
            "                                                PDF URL           Source ID  \\\n",
            "9     https://assets.publishing.service.gov.uk/gover...               govuk   \n",
            "10    https://www3.weforum.org/docs/WEF_AI_Governanc...             weforum   \n",
            "18    https://www3.weforum.org/docs/WEF_Harnessing_t...             weforum   \n",
            "20    https://webapi2016.eesc.europa.eu/v1/documents...              eesceu   \n",
            "21    https://efs-archiwum.men.gov.pl/wp-content/upl...  governmentofpoland   \n",
            "...                                                 ...                 ...   \n",
            "1176  https://assets.publishing.service.gov.uk/gover...               govuk   \n",
            "1178  https://ec.europa.eu/research/participants/doc...            cordisbe   \n",
            "1181  https://www3.weforum.org/docs/WEF_Patient_Firs...             weforum   \n",
            "1182  https://demos.co.uk/wp-content/uploads/2024/03...               demos   \n",
            "1197  https://bipartisanpolicy.org/wp-content/upload...          bipartisan   \n",
            "\n",
            "                                 Source Name Source Country Source Type  \\\n",
            "9                          The UK Government             UK  government   \n",
            "10                      World Economic Forum            IGO         igo   \n",
            "18                      World Economic Forum            IGO         igo   \n",
            "20    European Economic and Social Committee             EU  government   \n",
            "21                      Government of Poland         Poland  government   \n",
            "...                                      ...            ...         ...   \n",
            "1176                       The UK Government             UK  government   \n",
            "1178                                  CORDIS        Belgium  government   \n",
            "1181                    World Economic Forum            IGO         igo   \n",
            "1182                              Demos - UK             UK  think tank   \n",
            "1197                Bipartisan Policy Center            USA  think tank   \n",
            "\n",
            "                                     Policy Document ID Policy Document Type  \\\n",
            "9                govuk-c678e29c26716ee70d738567633144db          Publication   \n",
            "10             weforum-0a61a22839bfea82aeadba0baffa516a          Publication   \n",
            "18             weforum-2ed65f8ed6b956e2aea9448619cac51e          Publication   \n",
            "20              eesceu-b66cf14d0fbb7d314e1d7608e12a2c7a          Publication   \n",
            "21    governmentofpoland-f47868b8d77a889dc43f8ced7fc...          Publication   \n",
            "...                                                 ...                  ...   \n",
            "1176             govuk-d1a34738aa4fdbafe5e872d9a5a80c3a          White paper   \n",
            "1178          cordisbe-6c859af9c9f265759418a9ad5a437089          Publication   \n",
            "1181           weforum-887db7658013c39fbe48f630b85db7fb          Publication   \n",
            "1182             demos-24bec4efd493f0596bf04817d73bfb7b          Publication   \n",
            "1197        bipartisan-8cca3920d31757181dd9ed6995d31f28            Blog post   \n",
            "\n",
            "                                Policy Document Authors Policy Document DOIs  \\\n",
            "9                                        Sellafield Ltd                  NaN   \n",
            "10                                 World Economic Forum                  NaN   \n",
            "18                                 World Economic Forum                  NaN   \n",
            "20               European Economic and Social Committee                  NaN   \n",
            "21                       Ministry of National Education                  NaN   \n",
            "...                                                 ...                  ...   \n",
            "1176              Centre for Data Ethics and Innovation                  NaN   \n",
            "1178                                             CORDIS                  NaN   \n",
            "1181                               World Economic Forum                  NaN   \n",
            "1182  Ellen Judson ; Sarah A Fisher ; Jeffrey W Howa...                  NaN   \n",
            "1197  John Soroushian ; Gabrielle Shea ; Sabine Neschke                  NaN   \n",
            "\n",
            "                                             Top Topics  Citations  \\\n",
            "9           Artificial intelligence ; Risk ; Automation          0   \n",
            "10    Governance ; Artificial intelligence ; Generat...          0   \n",
            "18    Artificial intelligence ; Machine learning ; C...          0   \n",
            "20    European High-Performance Computing Joint Unde...         23   \n",
            "21    Natural language processing ; Artificial intel...          0   \n",
            "...                                                 ...        ...   \n",
            "1176        Artificial intelligence ; Privacy ; Chatbot          1   \n",
            "1178  Artificial intelligence ; Living lab ; Design ...          0   \n",
            "1181    Therapy ; Artificial intelligence ; Health care          0   \n",
            "1182   License ; Artificial intelligence ; Social media          0   \n",
            "1197    Artificial intelligence ; Research ; Governance          0   \n",
            "\n",
            "      Citations (Including Same Source) Languages  \n",
            "9                                     0       eng  \n",
            "10                                    0       eng  \n",
            "18                                    0       eng  \n",
            "20                                   28       eng  \n",
            "21                                    0       pol  \n",
            "...                                 ...       ...  \n",
            "1176                                  2       eng  \n",
            "1178                                  0       eng  \n",
            "1181                                  0       eng  \n",
            "1182                                  0       eng  \n",
            "1197                                  1       eng  \n",
            "\n",
            "[267 rows x 17 columns]\n",
            "Number of rows without 'Artificial intelligence' in 'Top Topics': 267\n"
          ]
        }
      ]
    },
    {
      "cell_type": "code",
      "source": [
        "# Save filtered results to a new Excel file\n",
        "filtered_file_path = '/content/drive/MyDrive/Project_pythonclass/Filtered_Overton_data_with_titles.xlsx'\n",
        "df.to_excel(filtered_file_path, index=False)\n",
        "\n",
        "# Check filtered data\n",
        "print(df.head())"
      ],
      "metadata": {
        "colab": {
          "base_uri": "https://localhost:8080/"
        },
        "id": "TDwqOHmu8gMb",
        "outputId": "bf4008eb-2f7a-4b48-81ba-dbe06ac8f59a"
      },
      "execution_count": null,
      "outputs": [
        {
          "output_type": "stream",
          "name": "stdout",
          "text": [
            "                                                Title  \\\n",
            "9                          Sellafield Ltd AI Strategy   \n",
            "10      AI Governance Alliance: Briefing Paper Series   \n",
            "18        Using AI in Industrial Operations Guidebook   \n",
            "20  COMMUNICATION FROM THE COMMISSION TO THE EUROP...   \n",
            "21  Szkolenia z zakresu AI dla nauczycieli szkół p...   \n",
            "\n",
            "                           Translated title  Published  \\\n",
            "9                                       NaN 2023-03-23   \n",
            "10                                      NaN 2024-01-18   \n",
            "18                                      NaN 2023-10-09   \n",
            "20                                      NaN 2024-01-25   \n",
            "21  AI training for primary school teachers 2024-01-27   \n",
            "\n",
            "                                                  URL  \\\n",
            "9   https://www.gov.uk/government/publications/sel...   \n",
            "10  https://www.weforum.org/publications/ai-govern...   \n",
            "18  https://www.weforum.org/whitepapers/harnessing...   \n",
            "20  https://webapi2016.eesc.europa.eu/v1/documents...   \n",
            "21  https://efs-archiwum.men.gov.pl/wp-content/upl...   \n",
            "\n",
            "                                              PDF URL           Source ID  \\\n",
            "9   https://assets.publishing.service.gov.uk/gover...               govuk   \n",
            "10  https://www3.weforum.org/docs/WEF_AI_Governanc...             weforum   \n",
            "18  https://www3.weforum.org/docs/WEF_Harnessing_t...             weforum   \n",
            "20  https://webapi2016.eesc.europa.eu/v1/documents...              eesceu   \n",
            "21  https://efs-archiwum.men.gov.pl/wp-content/upl...  governmentofpoland   \n",
            "\n",
            "                               Source Name Source Country Source Type  \\\n",
            "9                        The UK Government             UK  government   \n",
            "10                    World Economic Forum            IGO         igo   \n",
            "18                    World Economic Forum            IGO         igo   \n",
            "20  European Economic and Social Committee             EU  government   \n",
            "21                    Government of Poland         Poland  government   \n",
            "\n",
            "                                   Policy Document ID Policy Document Type  \\\n",
            "9              govuk-c678e29c26716ee70d738567633144db          Publication   \n",
            "10           weforum-0a61a22839bfea82aeadba0baffa516a          Publication   \n",
            "18           weforum-2ed65f8ed6b956e2aea9448619cac51e          Publication   \n",
            "20            eesceu-b66cf14d0fbb7d314e1d7608e12a2c7a          Publication   \n",
            "21  governmentofpoland-f47868b8d77a889dc43f8ced7fc...          Publication   \n",
            "\n",
            "                   Policy Document Authors Policy Document DOIs  \\\n",
            "9                           Sellafield Ltd                  NaN   \n",
            "10                    World Economic Forum                  NaN   \n",
            "18                    World Economic Forum                  NaN   \n",
            "20  European Economic and Social Committee                  NaN   \n",
            "21          Ministry of National Education                  NaN   \n",
            "\n",
            "                                           Top Topics  Citations  \\\n",
            "9         Artificial intelligence ; Risk ; Automation          0   \n",
            "10  Governance ; Artificial intelligence ; Generat...          0   \n",
            "18  Artificial intelligence ; Machine learning ; C...          0   \n",
            "20  European High-Performance Computing Joint Unde...         23   \n",
            "21  Natural language processing ; Artificial intel...          0   \n",
            "\n",
            "    Citations (Including Same Source) Languages  \n",
            "9                                   0       eng  \n",
            "10                                  0       eng  \n",
            "18                                  0       eng  \n",
            "20                                 28       eng  \n",
            "21                                  0       pol  \n"
          ]
        }
      ]
    },
    {
      "cell_type": "code",
      "source": [],
      "metadata": {
        "id": "_JC9kUysPsb_"
      },
      "execution_count": null,
      "outputs": []
    }
  ]
}